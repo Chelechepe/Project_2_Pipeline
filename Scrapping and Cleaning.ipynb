{
 "cells": [
  {
   "cell_type": "code",
   "execution_count": 1,
   "id": "f95768a8",
   "metadata": {},
   "outputs": [
    {
     "data": {
      "text/plain": [
       "'C:\\\\Users\\\\Edgard_Cuadra\\\\OneDrive\\\\Desktop\\\\Ironhack\\\\Projects\\\\Project_2_Pipelines'"
      ]
     },
     "execution_count": 1,
     "metadata": {},
     "output_type": "execute_result"
    }
   ],
   "source": [
    "pwd"
   ]
  },
  {
   "cell_type": "code",
   "execution_count": 2,
   "id": "f39fd3ae",
   "metadata": {},
   "outputs": [],
   "source": [
    "import src.clean as cl"
   ]
  },
  {
   "cell_type": "code",
   "execution_count": 3,
   "id": "85754e8d",
   "metadata": {},
   "outputs": [],
   "source": [
    "import requests\n",
    "from bs4 import BeautifulSoup\n",
    "import pandas as pd\n",
    "import requests\n",
    "import re "
   ]
  },
  {
   "cell_type": "markdown",
   "id": "3c3724ae",
   "metadata": {},
   "source": [
    "### Extracting Experts players rankings from CBS sports "
   ]
  },
  {
   "cell_type": "markdown",
   "id": "fba364e9",
   "metadata": {},
   "source": [
    "First we find the webpage we want to get the information from so that we can scrape the data out of it. to make it legible we transform in into html format by using beutifulsoup."
   ]
  },
  {
   "cell_type": "code",
   "execution_count": 4,
   "id": "e88cd161",
   "metadata": {},
   "outputs": [],
   "source": [
    "urlcbs = \"https://www.cbssports.com/fantasy/football/rankings/\""
   ]
  },
  {
   "cell_type": "code",
   "execution_count": 5,
   "id": "e7e5d97c",
   "metadata": {},
   "outputs": [],
   "source": [
    "cbshtml = cl.get_html(urlcbs)"
   ]
  },
  {
   "cell_type": "markdown",
   "id": "ea2a43ca",
   "metadata": {},
   "source": [
    "once we get the content in a format we can use we can proceedd to extract the information wanted, in this cases we need player name, team, position and ranking."
   ]
  },
  {
   "cell_type": "code",
   "execution_count": 9,
   "id": "89b3525d",
   "metadata": {},
   "outputs": [],
   "source": [
    "player1 = cl.select_html(cbshtml,\"span.player-name\")"
   ]
  },
  {
   "cell_type": "code",
   "execution_count": 12,
   "id": "ddc56e23",
   "metadata": {},
   "outputs": [],
   "source": [
    "player1_list = [element.getText().strip() for element in player1]"
   ]
  },
  {
   "cell_type": "code",
   "execution_count": 15,
   "id": "bfd3d753",
   "metadata": {},
   "outputs": [],
   "source": [
    "ranking1 = cl.select_html(cbshtml,\"div.rank\")"
   ]
  },
  {
   "cell_type": "code",
   "execution_count": 16,
   "id": "99386597",
   "metadata": {},
   "outputs": [],
   "source": [
    "ranking1_list = [element.getText().strip() for element in ranking1]"
   ]
  },
  {
   "cell_type": "code",
   "execution_count": 27,
   "id": "3efe9a02",
   "metadata": {},
   "outputs": [],
   "source": [
    "team1 = cl.select_html(cbshtml,\"span.team.position\")"
   ]
  },
  {
   "cell_type": "code",
   "execution_count": 28,
   "id": "7aa3ccd6",
   "metadata": {},
   "outputs": [],
   "source": [
    "team1_list = [element.getText().strip() for element in team1]"
   ]
  },
  {
   "cell_type": "code",
   "execution_count": 37,
   "id": "01064bb1",
   "metadata": {},
   "outputs": [],
   "source": [
    "Team1_ = [element.split(\"\\n\")[0].strip(\",\").strip()  for element in team1_list]"
   ]
  },
  {
   "cell_type": "code",
   "execution_count": 39,
   "id": "71f34e7d",
   "metadata": {},
   "outputs": [],
   "source": [
    "position1_ = [element.split(\"\\n\")[1].strip(\",\").strip()  for element in team1_list]"
   ]
  },
  {
   "cell_type": "markdown",
   "id": "f2674c08",
   "metadata": {},
   "source": [
    "Now that we have extracted the information into separate lists we need to converge them into a dictionary in order for us to be able to turn it into a dataframe."
   ]
  },
  {
   "cell_type": "code",
   "execution_count": 53,
   "id": "95ad4674",
   "metadata": {},
   "outputs": [],
   "source": [
    "allRanking ={\n",
    "    \"Player\": player1_list,\n",
    "    \"Position\": position1_,\n",
    "    \"Team\": Team1_,\n",
    "    \"Ranking\" : ranking1_list,\n",
    "}"
   ]
  },
  {
   "cell_type": "code",
   "execution_count": 56,
   "id": "0ac8f6d3",
   "metadata": {
    "scrolled": false
   },
   "outputs": [
    {
     "data": {
      "text/html": [
       "<div>\n",
       "<style scoped>\n",
       "    .dataframe tbody tr th:only-of-type {\n",
       "        vertical-align: middle;\n",
       "    }\n",
       "\n",
       "    .dataframe tbody tr th {\n",
       "        vertical-align: top;\n",
       "    }\n",
       "\n",
       "    .dataframe thead th {\n",
       "        text-align: right;\n",
       "    }\n",
       "</style>\n",
       "<table border=\"1\" class=\"dataframe\">\n",
       "  <thead>\n",
       "    <tr style=\"text-align: right;\">\n",
       "      <th></th>\n",
       "      <th>Player</th>\n",
       "      <th>Position</th>\n",
       "      <th>Team</th>\n",
       "      <th>Ranking</th>\n",
       "    </tr>\n",
       "  </thead>\n",
       "  <tbody>\n",
       "    <tr>\n",
       "      <th>0</th>\n",
       "      <td>J. Taylor</td>\n",
       "      <td>RB</td>\n",
       "      <td>IND</td>\n",
       "      <td>1</td>\n",
       "    </tr>\n",
       "    <tr>\n",
       "      <th>1</th>\n",
       "      <td>C. McCaffrey</td>\n",
       "      <td>RB</td>\n",
       "      <td>CAR</td>\n",
       "      <td>2</td>\n",
       "    </tr>\n",
       "  </tbody>\n",
       "</table>\n",
       "</div>"
      ],
      "text/plain": [
       "         Player Position Team Ranking\n",
       "0     J. Taylor       RB  IND       1\n",
       "1  C. McCaffrey       RB  CAR       2"
      ]
     },
     "execution_count": 56,
     "metadata": {},
     "output_type": "execute_result"
    }
   ],
   "source": [
    "allrankings = pd.DataFrame(allRanking)\n",
    "allrankings.head(2)"
   ]
  },
  {
   "cell_type": "markdown",
   "id": "a3d34115",
   "metadata": {},
   "source": [
    "the web page pulled all the rankings into one dataframe, we need proceed to great 3 dataframes with the rankings. using iloc we are going to cut the dataframe into 3 tables and after merge them with the name index."
   ]
  },
  {
   "cell_type": "code",
   "execution_count": 163,
   "id": "28f7ddae",
   "metadata": {},
   "outputs": [],
   "source": [
    "eisenbergranking = allrankings.iloc[0:200,:].reset_index(drop=True)\n",
    "richardranking = allrankings.iloc[200:400,:].reset_index(drop=True)\n",
    "cummingsranking = allrankings.iloc[400:600,:].reset_index(drop=True)"
   ]
  },
  {
   "cell_type": "code",
   "execution_count": 70,
   "id": "7397dd06",
   "metadata": {},
   "outputs": [],
   "source": [
    "from functools import reduce"
   ]
  },
  {
   "cell_type": "code",
   "execution_count": 183,
   "id": "165db1a8",
   "metadata": {},
   "outputs": [],
   "source": [
    "x = [eisenbergranking, richardranking, cummingsranking]\n",
    "\n",
    "test = reduce(lambda left,right: pd.merge(left,\n",
    "right,on=['Player',\"Position\",\"Team\"],how='outer'), x)"
   ]
  },
  {
   "cell_type": "code",
   "execution_count": 187,
   "id": "9bb5d85c",
   "metadata": {},
   "outputs": [
    {
     "data": {
      "text/html": [
       "<div>\n",
       "<style scoped>\n",
       "    .dataframe tbody tr th:only-of-type {\n",
       "        vertical-align: middle;\n",
       "    }\n",
       "\n",
       "    .dataframe tbody tr th {\n",
       "        vertical-align: top;\n",
       "    }\n",
       "\n",
       "    .dataframe thead th {\n",
       "        text-align: right;\n",
       "    }\n",
       "</style>\n",
       "<table border=\"1\" class=\"dataframe\">\n",
       "  <thead>\n",
       "    <tr style=\"text-align: right;\">\n",
       "      <th></th>\n",
       "      <th>Player</th>\n",
       "      <th>Position</th>\n",
       "      <th>Team</th>\n",
       "      <th>Ranking_x</th>\n",
       "      <th>Ranking_y</th>\n",
       "      <th>Ranking</th>\n",
       "    </tr>\n",
       "  </thead>\n",
       "  <tbody>\n",
       "    <tr>\n",
       "      <th>41</th>\n",
       "      <td>T. McLaurin</td>\n",
       "      <td>WR</td>\n",
       "      <td>WAS</td>\n",
       "      <td>42</td>\n",
       "      <td>45</td>\n",
       "      <td>41</td>\n",
       "    </tr>\n",
       "    <tr>\n",
       "      <th>91</th>\n",
       "      <td>A. St. Brown</td>\n",
       "      <td>WR</td>\n",
       "      <td>DET</td>\n",
       "      <td>92</td>\n",
       "      <td>91</td>\n",
       "      <td>71</td>\n",
       "    </tr>\n",
       "    <tr>\n",
       "      <th>33</th>\n",
       "      <td>K. Pitts</td>\n",
       "      <td>TE</td>\n",
       "      <td>ATL</td>\n",
       "      <td>34</td>\n",
       "      <td>37</td>\n",
       "      <td>57</td>\n",
       "    </tr>\n",
       "  </tbody>\n",
       "</table>\n",
       "</div>"
      ],
      "text/plain": [
       "          Player Position Team Ranking_x Ranking_y Ranking\n",
       "41   T. McLaurin       WR  WAS        42        45      41\n",
       "91  A. St. Brown       WR  DET        92        91      71\n",
       "33      K. Pitts       TE  ATL        34        37      57"
      ]
     },
     "execution_count": 187,
     "metadata": {},
     "output_type": "execute_result"
    }
   ],
   "source": [
    "test.sample(3)"
   ]
  },
  {
   "cell_type": "markdown",
   "id": "dd863cee",
   "metadata": {},
   "source": [
    "since we want the top 100 players to look out after, we need to drop the rows bellow line 100 and use the information of the top ranked prospects in the league."
   ]
  },
  {
   "cell_type": "code",
   "execution_count": 215,
   "id": "120fa39a",
   "metadata": {},
   "outputs": [],
   "source": [
    "top100ranked = test.head(120)"
   ]
  },
  {
   "cell_type": "markdown",
   "id": "09f8b289",
   "metadata": {},
   "source": [
    "we check if there is any missing values of information of the collumns that we need to make sure we have the required information for all the players in the top 100, and since we have to make a calculated column we need to change the type of some columns to integers"
   ]
  },
  {
   "cell_type": "code",
   "execution_count": 216,
   "id": "36d2737f",
   "metadata": {},
   "outputs": [
    {
     "data": {
      "text/plain": [
       "Player       0\n",
       "Position     0\n",
       "Team         0\n",
       "Ranking_x    0\n",
       "Ranking_y    0\n",
       "Ranking      0\n",
       "dtype: int64"
      ]
     },
     "execution_count": 216,
     "metadata": {},
     "output_type": "execute_result"
    }
   ],
   "source": [
    "cl.columnnullcount(top100ranked)"
   ]
  },
  {
   "cell_type": "code",
   "execution_count": 217,
   "id": "b182bba7",
   "metadata": {},
   "outputs": [
    {
     "name": "stderr",
     "output_type": "stream",
     "text": [
      "C:\\Users\\Edgard_Cuadra\\AppData\\Local\\Temp\\ipykernel_23388\\2618516453.py:1: SettingWithCopyWarning: \n",
      "A value is trying to be set on a copy of a slice from a DataFrame.\n",
      "Try using .loc[row_indexer,col_indexer] = value instead\n",
      "\n",
      "See the caveats in the documentation: https://pandas.pydata.org/pandas-docs/stable/user_guide/indexing.html#returning-a-view-versus-a-copy\n",
      "  top100ranked[\"Ranking_x\"] = top100ranked[\"Ranking_x\"].apply(int)\n"
     ]
    }
   ],
   "source": [
    "top100ranked[\"Ranking_x\"] = top100ranked[\"Ranking_x\"].apply(int)"
   ]
  },
  {
   "cell_type": "code",
   "execution_count": 218,
   "id": "25031f4b",
   "metadata": {},
   "outputs": [
    {
     "name": "stderr",
     "output_type": "stream",
     "text": [
      "C:\\Users\\Edgard_Cuadra\\AppData\\Local\\Temp\\ipykernel_23388\\230294182.py:1: SettingWithCopyWarning: \n",
      "A value is trying to be set on a copy of a slice from a DataFrame.\n",
      "Try using .loc[row_indexer,col_indexer] = value instead\n",
      "\n",
      "See the caveats in the documentation: https://pandas.pydata.org/pandas-docs/stable/user_guide/indexing.html#returning-a-view-versus-a-copy\n",
      "  top100ranked[\"Ranking_y\"] = top100ranked[\"Ranking_y\"].apply(int)\n"
     ]
    }
   ],
   "source": [
    "top100ranked[\"Ranking_y\"] = top100ranked[\"Ranking_y\"].apply(int)"
   ]
  },
  {
   "cell_type": "code",
   "execution_count": 219,
   "id": "11c88fb8",
   "metadata": {},
   "outputs": [
    {
     "name": "stderr",
     "output_type": "stream",
     "text": [
      "C:\\Users\\Edgard_Cuadra\\AppData\\Local\\Temp\\ipykernel_23388\\1780496477.py:1: SettingWithCopyWarning: \n",
      "A value is trying to be set on a copy of a slice from a DataFrame.\n",
      "Try using .loc[row_indexer,col_indexer] = value instead\n",
      "\n",
      "See the caveats in the documentation: https://pandas.pydata.org/pandas-docs/stable/user_guide/indexing.html#returning-a-view-versus-a-copy\n",
      "  top100ranked[\"Ranking\"] = top100ranked[\"Ranking\"].apply(int)\n"
     ]
    }
   ],
   "source": [
    "top100ranked[\"Ranking\"] = top100ranked[\"Ranking\"].apply(int)"
   ]
  },
  {
   "cell_type": "code",
   "execution_count": 220,
   "id": "ef843ebe",
   "metadata": {},
   "outputs": [
    {
     "name": "stdout",
     "output_type": "stream",
     "text": [
      "<class 'pandas.core.frame.DataFrame'>\n",
      "Int64Index: 120 entries, 0 to 119\n",
      "Data columns (total 6 columns):\n",
      " #   Column     Non-Null Count  Dtype \n",
      "---  ------     --------------  ----- \n",
      " 0   Player     120 non-null    object\n",
      " 1   Position   120 non-null    object\n",
      " 2   Team       120 non-null    object\n",
      " 3   Ranking_x  120 non-null    int64 \n",
      " 4   Ranking_y  120 non-null    int64 \n",
      " 5   Ranking    120 non-null    int64 \n",
      "dtypes: int64(3), object(3)\n",
      "memory usage: 6.6+ KB\n"
     ]
    }
   ],
   "source": [
    "top100ranked.info()"
   ]
  },
  {
   "cell_type": "markdown",
   "id": "b5de51a1",
   "metadata": {},
   "source": [
    "now we need to creat a new column with an average agregate of the ranking for every player to get our ranking value as an average of all three experts rankings"
   ]
  },
  {
   "cell_type": "code",
   "execution_count": 221,
   "id": "38cc641b",
   "metadata": {},
   "outputs": [
    {
     "name": "stderr",
     "output_type": "stream",
     "text": [
      "C:\\Users\\Edgard_Cuadra\\AppData\\Local\\Temp\\ipykernel_23388\\748878491.py:1: SettingWithCopyWarning: \n",
      "A value is trying to be set on a copy of a slice from a DataFrame.\n",
      "Try using .loc[row_indexer,col_indexer] = value instead\n",
      "\n",
      "See the caveats in the documentation: https://pandas.pydata.org/pandas-docs/stable/user_guide/indexing.html#returning-a-view-versus-a-copy\n",
      "  top100ranked['My_Ranking'] = (top100ranked.Ranking_x + top100ranked.Ranking_y + top100ranked.Ranking)/3\n"
     ]
    }
   ],
   "source": [
    "top100ranked['My_Ranking'] = (top100ranked.Ranking_x + top100ranked.Ranking_y + top100ranked.Ranking)/3"
   ]
  },
  {
   "cell_type": "code",
   "execution_count": 222,
   "id": "57ae4382",
   "metadata": {},
   "outputs": [
    {
     "data": {
      "text/html": [
       "<div>\n",
       "<style scoped>\n",
       "    .dataframe tbody tr th:only-of-type {\n",
       "        vertical-align: middle;\n",
       "    }\n",
       "\n",
       "    .dataframe tbody tr th {\n",
       "        vertical-align: top;\n",
       "    }\n",
       "\n",
       "    .dataframe thead th {\n",
       "        text-align: right;\n",
       "    }\n",
       "</style>\n",
       "<table border=\"1\" class=\"dataframe\">\n",
       "  <thead>\n",
       "    <tr style=\"text-align: right;\">\n",
       "      <th></th>\n",
       "      <th>Player</th>\n",
       "      <th>Position</th>\n",
       "      <th>Team</th>\n",
       "      <th>Ranking_x</th>\n",
       "      <th>Ranking_y</th>\n",
       "      <th>Ranking</th>\n",
       "      <th>My_Ranking</th>\n",
       "    </tr>\n",
       "  </thead>\n",
       "  <tbody>\n",
       "    <tr>\n",
       "      <th>0</th>\n",
       "      <td>J. Taylor</td>\n",
       "      <td>RB</td>\n",
       "      <td>IND</td>\n",
       "      <td>1</td>\n",
       "      <td>1</td>\n",
       "      <td>1</td>\n",
       "      <td>1.000000</td>\n",
       "    </tr>\n",
       "    <tr>\n",
       "      <th>1</th>\n",
       "      <td>C. McCaffrey</td>\n",
       "      <td>RB</td>\n",
       "      <td>CAR</td>\n",
       "      <td>2</td>\n",
       "      <td>5</td>\n",
       "      <td>3</td>\n",
       "      <td>3.333333</td>\n",
       "    </tr>\n",
       "  </tbody>\n",
       "</table>\n",
       "</div>"
      ],
      "text/plain": [
       "         Player Position Team  Ranking_x  Ranking_y  Ranking  My_Ranking\n",
       "0     J. Taylor       RB  IND          1          1        1    1.000000\n",
       "1  C. McCaffrey       RB  CAR          2          5        3    3.333333"
      ]
     },
     "execution_count": 222,
     "metadata": {},
     "output_type": "execute_result"
    }
   ],
   "source": [
    "top100ranked.head(2)"
   ]
  },
  {
   "cell_type": "markdown",
   "id": "b313390b",
   "metadata": {},
   "source": [
    "now that we have the desired outcome i need to change the columns name, and eliminate columns that are not usefull or repetitive. after that we can rearrange by the column of my ranking and reset the index with that order."
   ]
  },
  {
   "cell_type": "code",
   "execution_count": 223,
   "id": "6177d6e2",
   "metadata": {},
   "outputs": [],
   "source": [
    "top100ranked = top100ranked.rename(columns={\"Ranking_x\": \"Eisenberg_ranking\",\"Ranking_y\": \"Richards_ranking\", \"Ranking\": \"Cummings_ranking\"})"
   ]
  },
  {
   "cell_type": "code",
   "execution_count": 224,
   "id": "cfa2b389",
   "metadata": {},
   "outputs": [],
   "source": [
    "top100ranked = top100ranked.round(2) #this will roun to 2 decimal places"
   ]
  },
  {
   "cell_type": "code",
   "execution_count": 225,
   "id": "6b8f157a",
   "metadata": {},
   "outputs": [
    {
     "data": {
      "text/html": [
       "<div>\n",
       "<style scoped>\n",
       "    .dataframe tbody tr th:only-of-type {\n",
       "        vertical-align: middle;\n",
       "    }\n",
       "\n",
       "    .dataframe tbody tr th {\n",
       "        vertical-align: top;\n",
       "    }\n",
       "\n",
       "    .dataframe thead th {\n",
       "        text-align: right;\n",
       "    }\n",
       "</style>\n",
       "<table border=\"1\" class=\"dataframe\">\n",
       "  <thead>\n",
       "    <tr style=\"text-align: right;\">\n",
       "      <th></th>\n",
       "      <th>Player</th>\n",
       "      <th>Position</th>\n",
       "      <th>Team</th>\n",
       "      <th>Eisenberg_ranking</th>\n",
       "      <th>Richards_ranking</th>\n",
       "      <th>Cummings_ranking</th>\n",
       "      <th>My_Ranking</th>\n",
       "    </tr>\n",
       "  </thead>\n",
       "  <tbody>\n",
       "    <tr>\n",
       "      <th>63</th>\n",
       "      <td>J. Smith-Schuster</td>\n",
       "      <td>WR</td>\n",
       "      <td>KC</td>\n",
       "      <td>64</td>\n",
       "      <td>78</td>\n",
       "      <td>63</td>\n",
       "      <td>68.33</td>\n",
       "    </tr>\n",
       "    <tr>\n",
       "      <th>67</th>\n",
       "      <td>C. Edmonds</td>\n",
       "      <td>RB</td>\n",
       "      <td>MIA</td>\n",
       "      <td>68</td>\n",
       "      <td>71</td>\n",
       "      <td>68</td>\n",
       "      <td>69.00</td>\n",
       "    </tr>\n",
       "    <tr>\n",
       "      <th>0</th>\n",
       "      <td>J. Taylor</td>\n",
       "      <td>RB</td>\n",
       "      <td>IND</td>\n",
       "      <td>1</td>\n",
       "      <td>1</td>\n",
       "      <td>1</td>\n",
       "      <td>1.00</td>\n",
       "    </tr>\n",
       "  </tbody>\n",
       "</table>\n",
       "</div>"
      ],
      "text/plain": [
       "               Player Position Team  Eisenberg_ranking  Richards_ranking  \\\n",
       "63  J. Smith-Schuster       WR   KC                 64                78   \n",
       "67         C. Edmonds       RB  MIA                 68                71   \n",
       "0           J. Taylor       RB  IND                  1                 1   \n",
       "\n",
       "    Cummings_ranking  My_Ranking  \n",
       "63                63       68.33  \n",
       "67                68       69.00  \n",
       "0                  1        1.00  "
      ]
     },
     "execution_count": 225,
     "metadata": {},
     "output_type": "execute_result"
    }
   ],
   "source": [
    "top100ranked.sample(3)"
   ]
  },
  {
   "cell_type": "code",
   "execution_count": 226,
   "id": "7e6697dc",
   "metadata": {},
   "outputs": [],
   "source": [
    "top100ranked = top100ranked.sort_values(by=[\"My_Ranking\"]).reset_index(drop=True)"
   ]
  },
  {
   "cell_type": "code",
   "execution_count": 227,
   "id": "b090abf4",
   "metadata": {},
   "outputs": [
    {
     "data": {
      "text/html": [
       "<div>\n",
       "<style scoped>\n",
       "    .dataframe tbody tr th:only-of-type {\n",
       "        vertical-align: middle;\n",
       "    }\n",
       "\n",
       "    .dataframe tbody tr th {\n",
       "        vertical-align: top;\n",
       "    }\n",
       "\n",
       "    .dataframe thead th {\n",
       "        text-align: right;\n",
       "    }\n",
       "</style>\n",
       "<table border=\"1\" class=\"dataframe\">\n",
       "  <thead>\n",
       "    <tr style=\"text-align: right;\">\n",
       "      <th></th>\n",
       "      <th>Player</th>\n",
       "      <th>Position</th>\n",
       "      <th>Team</th>\n",
       "      <th>Eisenberg_ranking</th>\n",
       "      <th>Richards_ranking</th>\n",
       "      <th>Cummings_ranking</th>\n",
       "      <th>My_Ranking</th>\n",
       "    </tr>\n",
       "  </thead>\n",
       "  <tbody>\n",
       "    <tr>\n",
       "      <th>107</th>\n",
       "      <td>M. Carter</td>\n",
       "      <td>RB</td>\n",
       "      <td>NYJ</td>\n",
       "      <td>117</td>\n",
       "      <td>109</td>\n",
       "      <td>94</td>\n",
       "      <td>106.67</td>\n",
       "    </tr>\n",
       "    <tr>\n",
       "      <th>115</th>\n",
       "      <td>C. Watson</td>\n",
       "      <td>WR</td>\n",
       "      <td>GB</td>\n",
       "      <td>119</td>\n",
       "      <td>130</td>\n",
       "      <td>120</td>\n",
       "      <td>123.00</td>\n",
       "    </tr>\n",
       "    <tr>\n",
       "      <th>92</th>\n",
       "      <td>E. Moore</td>\n",
       "      <td>WR</td>\n",
       "      <td>NYJ</td>\n",
       "      <td>91</td>\n",
       "      <td>100</td>\n",
       "      <td>81</td>\n",
       "      <td>90.67</td>\n",
       "    </tr>\n",
       "  </tbody>\n",
       "</table>\n",
       "</div>"
      ],
      "text/plain": [
       "        Player Position Team  Eisenberg_ranking  Richards_ranking  \\\n",
       "107  M. Carter       RB  NYJ                117               109   \n",
       "115  C. Watson       WR   GB                119               130   \n",
       "92    E. Moore       WR  NYJ                 91               100   \n",
       "\n",
       "     Cummings_ranking  My_Ranking  \n",
       "107                94      106.67  \n",
       "115               120      123.00  \n",
       "92                 81       90.67  "
      ]
     },
     "execution_count": 227,
     "metadata": {},
     "output_type": "execute_result"
    }
   ],
   "source": [
    "top100ranked.sample(3)"
   ]
  },
  {
   "cell_type": "markdown",
   "id": "56af7db9",
   "metadata": {},
   "source": [
    "### Importing players stats and salary."
   ]
  },
  {
   "cell_type": "markdown",
   "id": "c3550990",
   "metadata": {},
   "source": [
    "the database that is being impor is the general starts of all the NFL players and their official salary. "
   ]
  },
  {
   "cell_type": "code",
   "execution_count": 230,
   "id": "2f4b379a",
   "metadata": {},
   "outputs": [
    {
     "data": {
      "text/plain": [
       "'C:\\\\Users\\\\Edgard_Cuadra\\\\OneDrive\\\\Desktop\\\\Ironhack\\\\Projects\\\\Project_2_Pipelines'"
      ]
     },
     "execution_count": 230,
     "metadata": {},
     "output_type": "execute_result"
    }
   ],
   "source": [
    "pwd"
   ]
  },
  {
   "cell_type": "code",
   "execution_count": 231,
   "id": "61700481",
   "metadata": {},
   "outputs": [],
   "source": [
    "nfl_stat = pd.read_csv('.\\\\Input\\\\madden21_ratings.csv', encoding='latin1')"
   ]
  },
  {
   "cell_type": "markdown",
   "id": "fe55bdb4",
   "metadata": {},
   "source": [
    "the table we imported has too much information that we dont need so we will drop the columns that are of no use to us, we can use the following code to eliminate by column position and make it easier and faster for us to drop the columns."
   ]
  },
  {
   "cell_type": "code",
   "execution_count": 234,
   "id": "c376dd33",
   "metadata": {},
   "outputs": [],
   "source": [
    "nfl_stat2 = nfl_stat.drop(nfl_stat.columns[[11,12,13,14,15,16,17,20,21,22,23,24,25,26,28,29,30,33,34,35,36,37,38,39,40,41,42,43,44,45,46,47,48,49,50,51,52,53,54,55,56,58,62,63]], axis=1) "
   ]
  },
  {
   "cell_type": "code",
   "execution_count": 235,
   "id": "add2ef8e",
   "metadata": {},
   "outputs": [
    {
     "data": {
      "text/html": [
       "<div>\n",
       "<style scoped>\n",
       "    .dataframe tbody tr th:only-of-type {\n",
       "        vertical-align: middle;\n",
       "    }\n",
       "\n",
       "    .dataframe tbody tr th {\n",
       "        vertical-align: top;\n",
       "    }\n",
       "\n",
       "    .dataframe thead th {\n",
       "        text-align: right;\n",
       "    }\n",
       "</style>\n",
       "<table border=\"1\" class=\"dataframe\">\n",
       "  <thead>\n",
       "    <tr style=\"text-align: right;\">\n",
       "      <th></th>\n",
       "      <th>Team</th>\n",
       "      <th>Full Name</th>\n",
       "      <th>Overall Rating</th>\n",
       "      <th>Position</th>\n",
       "      <th>Age</th>\n",
       "      <th>Speed</th>\n",
       "      <th>Acceleration</th>\n",
       "      <th>Awareness</th>\n",
       "      <th>Agility</th>\n",
       "      <th>Strength</th>\n",
       "      <th>...</th>\n",
       "      <th>Tackle</th>\n",
       "      <th>Injury</th>\n",
       "      <th>Jersey Number</th>\n",
       "      <th>Total Salary</th>\n",
       "      <th>Signing Bonus</th>\n",
       "      <th>Years Pro</th>\n",
       "      <th>Height</th>\n",
       "      <th>Weight</th>\n",
       "      <th>Birthdate</th>\n",
       "      <th>College</th>\n",
       "    </tr>\n",
       "  </thead>\n",
       "  <tbody>\n",
       "    <tr>\n",
       "      <th>0</th>\n",
       "      <td>Rams</td>\n",
       "      <td>Aaron Donald</td>\n",
       "      <td>99</td>\n",
       "      <td>RE</td>\n",
       "      <td>29</td>\n",
       "      <td>82</td>\n",
       "      <td>90</td>\n",
       "      <td>99</td>\n",
       "      <td>86</td>\n",
       "      <td>99</td>\n",
       "      <td>...</td>\n",
       "      <td>92</td>\n",
       "      <td>98</td>\n",
       "      <td>99</td>\n",
       "      <td>$101,892,000.00</td>\n",
       "      <td>$40,000,000.00</td>\n",
       "      <td>6</td>\n",
       "      <td>73</td>\n",
       "      <td>280</td>\n",
       "      <td>5/23/1991</td>\n",
       "      <td>Pittsburgh</td>\n",
       "    </tr>\n",
       "    <tr>\n",
       "      <th>1</th>\n",
       "      <td>Patriots</td>\n",
       "      <td>Stephon Gilmore</td>\n",
       "      <td>99</td>\n",
       "      <td>CB</td>\n",
       "      <td>29</td>\n",
       "      <td>92</td>\n",
       "      <td>94</td>\n",
       "      <td>99</td>\n",
       "      <td>94</td>\n",
       "      <td>70</td>\n",
       "      <td>...</td>\n",
       "      <td>68</td>\n",
       "      <td>94</td>\n",
       "      <td>24</td>\n",
       "      <td>$33,550,000.00</td>\n",
       "      <td>$31,450,000.00</td>\n",
       "      <td>8</td>\n",
       "      <td>73</td>\n",
       "      <td>202</td>\n",
       "      <td>9/19/1990</td>\n",
       "      <td>South Carolina</td>\n",
       "    </tr>\n",
       "    <tr>\n",
       "      <th>2</th>\n",
       "      <td>Panthers</td>\n",
       "      <td>Christian McCaffrey</td>\n",
       "      <td>99</td>\n",
       "      <td>HB</td>\n",
       "      <td>24</td>\n",
       "      <td>92</td>\n",
       "      <td>93</td>\n",
       "      <td>97</td>\n",
       "      <td>97</td>\n",
       "      <td>72</td>\n",
       "      <td>...</td>\n",
       "      <td>36</td>\n",
       "      <td>96</td>\n",
       "      <td>22</td>\n",
       "      <td>$45,840,000.00</td>\n",
       "      <td>$32,190,000.00</td>\n",
       "      <td>3</td>\n",
       "      <td>71</td>\n",
       "      <td>205</td>\n",
       "      <td>6/7/1996</td>\n",
       "      <td>Stanford</td>\n",
       "    </tr>\n",
       "  </tbody>\n",
       "</table>\n",
       "<p>3 rows × 25 columns</p>\n",
       "</div>"
      ],
      "text/plain": [
       "       Team            Full Name  Overall Rating Position  Age  Speed  \\\n",
       "0      Rams         Aaron Donald              99       RE   29     82   \n",
       "1  Patriots      Stephon Gilmore              99       CB   29     92   \n",
       "2  Panthers  Christian McCaffrey              99       HB   24     92   \n",
       "\n",
       "   Acceleration  Awareness  Agility  Strength  ...  Tackle  Injury  \\\n",
       "0            90         99       86        99  ...      92      98   \n",
       "1            94         99       94        70  ...      68      94   \n",
       "2            93         97       97        72  ...      36      96   \n",
       "\n",
       "   Jersey Number     Total Salary    Signing Bonus   Years Pro  Height  \\\n",
       "0             99  $101,892,000.00   $40,000,000.00           6      73   \n",
       "1             24   $33,550,000.00   $31,450,000.00           8      73   \n",
       "2             22   $45,840,000.00   $32,190,000.00           3      71   \n",
       "\n",
       "   Weight  Birthdate         College  \n",
       "0     280  5/23/1991      Pittsburgh  \n",
       "1     202  9/19/1990  South Carolina  \n",
       "2     205   6/7/1996        Stanford  \n",
       "\n",
       "[3 rows x 25 columns]"
      ]
     },
     "execution_count": 235,
     "metadata": {},
     "output_type": "execute_result"
    }
   ],
   "source": [
    "nfl_stat2.head(3)"
   ]
  },
  {
   "cell_type": "markdown",
   "id": "ff0e65f6",
   "metadata": {},
   "source": [
    "in order to merge the two tables by thei identifying names we will have to use the same numenclatures, thus the best approach would be to break into two columns and rearrange to get the desired initial and last name format."
   ]
  },
  {
   "cell_type": "code",
   "execution_count": 242,
   "id": "9338892e",
   "metadata": {},
   "outputs": [],
   "source": [
    "nfl_stat2['lastname'] = nfl_stat2['Full Name'].str.split(' ', expand=True)[1]"
   ]
  },
  {
   "cell_type": "code",
   "execution_count": 252,
   "id": "e3c69d21",
   "metadata": {},
   "outputs": [],
   "source": [
    "nfl_stat2['initials_'] =nfl_stat2['Full Name'].str.split('', expand=True)[1]"
   ]
  },
  {
   "cell_type": "code",
   "execution_count": 254,
   "id": "86620822",
   "metadata": {},
   "outputs": [],
   "source": [
    "nfl_stat2['short_name'] =  nfl_stat2['initials_']+ '. ' + nfl_stat2['lastname']"
   ]
  },
  {
   "cell_type": "markdown",
   "id": "97051163",
   "metadata": {},
   "source": [
    "now we need to start to eliminate the columns that we created temporarly to have a clean table, with only the information that we need."
   ]
  },
  {
   "cell_type": "code",
   "execution_count": 266,
   "id": "15326794",
   "metadata": {},
   "outputs": [],
   "source": [
    "nfl_stat2 = nfl_stat2.drop(nfl_stat2.columns[[25,26,27]], axis=1)"
   ]
  },
  {
   "cell_type": "code",
   "execution_count": 268,
   "id": "17804cd1",
   "metadata": {},
   "outputs": [
    {
     "data": {
      "text/html": [
       "<div>\n",
       "<style scoped>\n",
       "    .dataframe tbody tr th:only-of-type {\n",
       "        vertical-align: middle;\n",
       "    }\n",
       "\n",
       "    .dataframe tbody tr th {\n",
       "        vertical-align: top;\n",
       "    }\n",
       "\n",
       "    .dataframe thead th {\n",
       "        text-align: right;\n",
       "    }\n",
       "</style>\n",
       "<table border=\"1\" class=\"dataframe\">\n",
       "  <thead>\n",
       "    <tr style=\"text-align: right;\">\n",
       "      <th></th>\n",
       "      <th>Team</th>\n",
       "      <th>Full Name</th>\n",
       "      <th>Overall Rating</th>\n",
       "      <th>Position</th>\n",
       "      <th>Age</th>\n",
       "      <th>Speed</th>\n",
       "      <th>Acceleration</th>\n",
       "      <th>Awareness</th>\n",
       "      <th>Agility</th>\n",
       "      <th>Strength</th>\n",
       "      <th>...</th>\n",
       "      <th>Injury</th>\n",
       "      <th>Jersey Number</th>\n",
       "      <th>Total Salary</th>\n",
       "      <th>Signing Bonus</th>\n",
       "      <th>Years Pro</th>\n",
       "      <th>Height</th>\n",
       "      <th>Weight</th>\n",
       "      <th>Birthdate</th>\n",
       "      <th>College</th>\n",
       "      <th>short_name</th>\n",
       "    </tr>\n",
       "  </thead>\n",
       "  <tbody>\n",
       "    <tr>\n",
       "      <th>1815</th>\n",
       "      <td>Lions</td>\n",
       "      <td>Kevin Strong</td>\n",
       "      <td>62</td>\n",
       "      <td>DT</td>\n",
       "      <td>24</td>\n",
       "      <td>64</td>\n",
       "      <td>78</td>\n",
       "      <td>55</td>\n",
       "      <td>58</td>\n",
       "      <td>80</td>\n",
       "      <td>...</td>\n",
       "      <td>84</td>\n",
       "      <td>92</td>\n",
       "      <td>$1,760,000.00</td>\n",
       "      <td>$-</td>\n",
       "      <td>1</td>\n",
       "      <td>76</td>\n",
       "      <td>285</td>\n",
       "      <td>8/5/1996</td>\n",
       "      <td>UTSA</td>\n",
       "      <td>K. Strong</td>\n",
       "    </tr>\n",
       "    <tr>\n",
       "      <th>800</th>\n",
       "      <td>Bills</td>\n",
       "      <td>Isaiah McKenzie</td>\n",
       "      <td>72</td>\n",
       "      <td>WR</td>\n",
       "      <td>25</td>\n",
       "      <td>92</td>\n",
       "      <td>93</td>\n",
       "      <td>70</td>\n",
       "      <td>94</td>\n",
       "      <td>53</td>\n",
       "      <td>...</td>\n",
       "      <td>87</td>\n",
       "      <td>19</td>\n",
       "      <td>$680,000.00</td>\n",
       "      <td>$280,000.00</td>\n",
       "      <td>3</td>\n",
       "      <td>68</td>\n",
       "      <td>173</td>\n",
       "      <td>4/9/1995</td>\n",
       "      <td>Georgia</td>\n",
       "      <td>I. McKenzie</td>\n",
       "    </tr>\n",
       "  </tbody>\n",
       "</table>\n",
       "<p>2 rows × 26 columns</p>\n",
       "</div>"
      ],
      "text/plain": [
       "       Team        Full Name  Overall Rating Position  Age  Speed  \\\n",
       "1815  Lions     Kevin Strong              62       DT   24     64   \n",
       "800   Bills  Isaiah McKenzie              72       WR   25     92   \n",
       "\n",
       "      Acceleration  Awareness  Agility  Strength  ...  Injury  Jersey Number  \\\n",
       "1815            78         55       58        80  ...      84             92   \n",
       "800             93         70       94        53  ...      87             19   \n",
       "\n",
       "       Total Salary    Signing Bonus   Years Pro  Height  Weight  Birthdate  \\\n",
       "1815  $1,760,000.00             $-             1      76     285   8/5/1996   \n",
       "800     $680,000.00      $280,000.00           3      68     173   4/9/1995   \n",
       "\n",
       "      College   short_name  \n",
       "1815     UTSA    K. Strong  \n",
       "800   Georgia  I. McKenzie  \n",
       "\n",
       "[2 rows x 26 columns]"
      ]
     },
     "execution_count": 268,
     "metadata": {},
     "output_type": "execute_result"
    }
   ],
   "source": [
    "nfl_stat2.sample(2)"
   ]
  },
  {
   "cell_type": "code",
   "execution_count": 275,
   "id": "f71d9ca2",
   "metadata": {},
   "outputs": [],
   "source": [
    "nfl_stat2 = nfl_stat2.rename(columns={\"short_name\": \"Player\"})"
   ]
  },
  {
   "cell_type": "code",
   "execution_count": 283,
   "id": "039991e3",
   "metadata": {},
   "outputs": [
    {
     "data": {
      "text/html": [
       "<div>\n",
       "<style scoped>\n",
       "    .dataframe tbody tr th:only-of-type {\n",
       "        vertical-align: middle;\n",
       "    }\n",
       "\n",
       "    .dataframe tbody tr th {\n",
       "        vertical-align: top;\n",
       "    }\n",
       "\n",
       "    .dataframe thead th {\n",
       "        text-align: right;\n",
       "    }\n",
       "</style>\n",
       "<table border=\"1\" class=\"dataframe\">\n",
       "  <thead>\n",
       "    <tr style=\"text-align: right;\">\n",
       "      <th></th>\n",
       "      <th>Team</th>\n",
       "      <th>Full Name</th>\n",
       "      <th>Overall Rating</th>\n",
       "      <th>Position</th>\n",
       "      <th>Age</th>\n",
       "      <th>Speed</th>\n",
       "      <th>Acceleration</th>\n",
       "      <th>Awareness</th>\n",
       "      <th>Agility</th>\n",
       "      <th>Strength</th>\n",
       "      <th>...</th>\n",
       "      <th>Injury</th>\n",
       "      <th>Jersey Number</th>\n",
       "      <th>Total Salary</th>\n",
       "      <th>Signing Bonus</th>\n",
       "      <th>Years Pro</th>\n",
       "      <th>Height</th>\n",
       "      <th>Weight</th>\n",
       "      <th>Birthdate</th>\n",
       "      <th>College</th>\n",
       "      <th>Player</th>\n",
       "    </tr>\n",
       "  </thead>\n",
       "  <tbody>\n",
       "    <tr>\n",
       "      <th>1524</th>\n",
       "      <td>Cardinals</td>\n",
       "      <td>Eno Benjamin</td>\n",
       "      <td>65</td>\n",
       "      <td>HB</td>\n",
       "      <td>21</td>\n",
       "      <td>87</td>\n",
       "      <td>88</td>\n",
       "      <td>63</td>\n",
       "      <td>85</td>\n",
       "      <td>67</td>\n",
       "      <td>...</td>\n",
       "      <td>88</td>\n",
       "      <td>26</td>\n",
       "      <td>$2,737,714.00</td>\n",
       "      <td>$100,000.00</td>\n",
       "      <td>0</td>\n",
       "      <td>69</td>\n",
       "      <td>207</td>\n",
       "      <td>4/13/1999</td>\n",
       "      <td>Arizona St.</td>\n",
       "      <td>E. Benjamin</td>\n",
       "    </tr>\n",
       "    <tr>\n",
       "      <th>446</th>\n",
       "      <td>Seahawks</td>\n",
       "      <td>Rashaad Penny</td>\n",
       "      <td>78</td>\n",
       "      <td>HB</td>\n",
       "      <td>24</td>\n",
       "      <td>90</td>\n",
       "      <td>90</td>\n",
       "      <td>78</td>\n",
       "      <td>87</td>\n",
       "      <td>71</td>\n",
       "      <td>...</td>\n",
       "      <td>90</td>\n",
       "      <td>20</td>\n",
       "      <td>$4,860,000.00</td>\n",
       "      <td>$5,920,000.00</td>\n",
       "      <td>2</td>\n",
       "      <td>71</td>\n",
       "      <td>220</td>\n",
       "      <td>2/2/1996</td>\n",
       "      <td>San Diego St.</td>\n",
       "      <td>R. Penny</td>\n",
       "    </tr>\n",
       "    <tr>\n",
       "      <th>980</th>\n",
       "      <td>Cowboys</td>\n",
       "      <td>Neville Gallimore</td>\n",
       "      <td>70</td>\n",
       "      <td>DT</td>\n",
       "      <td>23</td>\n",
       "      <td>79</td>\n",
       "      <td>84</td>\n",
       "      <td>69</td>\n",
       "      <td>74</td>\n",
       "      <td>83</td>\n",
       "      <td>...</td>\n",
       "      <td>92</td>\n",
       "      <td>75</td>\n",
       "      <td>$4,229,084.00</td>\n",
       "      <td>$960,000.00</td>\n",
       "      <td>0</td>\n",
       "      <td>74</td>\n",
       "      <td>304</td>\n",
       "      <td>1/17/1997</td>\n",
       "      <td>Oklahoma</td>\n",
       "      <td>N. Gallimore</td>\n",
       "    </tr>\n",
       "    <tr>\n",
       "      <th>2011</th>\n",
       "      <td>Panthers</td>\n",
       "      <td>Chris Reed</td>\n",
       "      <td>59</td>\n",
       "      <td>C</td>\n",
       "      <td>28</td>\n",
       "      <td>70</td>\n",
       "      <td>81</td>\n",
       "      <td>70</td>\n",
       "      <td>53</td>\n",
       "      <td>85</td>\n",
       "      <td>...</td>\n",
       "      <td>84</td>\n",
       "      <td>64</td>\n",
       "      <td>$2,380,000.00</td>\n",
       "      <td>$-</td>\n",
       "      <td>5</td>\n",
       "      <td>76</td>\n",
       "      <td>320</td>\n",
       "      <td>7/22/1992</td>\n",
       "      <td>Minnesota State</td>\n",
       "      <td>C. Reed</td>\n",
       "    </tr>\n",
       "    <tr>\n",
       "      <th>1164</th>\n",
       "      <td>Panthers</td>\n",
       "      <td>Keith Kirkwood</td>\n",
       "      <td>68</td>\n",
       "      <td>WR</td>\n",
       "      <td>25</td>\n",
       "      <td>91</td>\n",
       "      <td>87</td>\n",
       "      <td>71</td>\n",
       "      <td>85</td>\n",
       "      <td>62</td>\n",
       "      <td>...</td>\n",
       "      <td>87</td>\n",
       "      <td>19</td>\n",
       "      <td>$750,000.00</td>\n",
       "      <td>$50,000.00</td>\n",
       "      <td>2</td>\n",
       "      <td>75</td>\n",
       "      <td>210</td>\n",
       "      <td>12/26/1994</td>\n",
       "      <td>Temple</td>\n",
       "      <td>K. Kirkwood</td>\n",
       "    </tr>\n",
       "  </tbody>\n",
       "</table>\n",
       "<p>5 rows × 26 columns</p>\n",
       "</div>"
      ],
      "text/plain": [
       "           Team          Full Name  Overall Rating Position  Age  Speed  \\\n",
       "1524  Cardinals       Eno Benjamin              65       HB   21     87   \n",
       "446    Seahawks      Rashaad Penny              78       HB   24     90   \n",
       "980     Cowboys  Neville Gallimore              70       DT   23     79   \n",
       "2011   Panthers         Chris Reed              59        C   28     70   \n",
       "1164   Panthers     Keith Kirkwood              68       WR   25     91   \n",
       "\n",
       "      Acceleration  Awareness  Agility  Strength  ...  Injury  Jersey Number  \\\n",
       "1524            88         63       85        67  ...      88             26   \n",
       "446             90         78       87        71  ...      90             20   \n",
       "980             84         69       74        83  ...      92             75   \n",
       "2011            81         70       53        85  ...      84             64   \n",
       "1164            87         71       85        62  ...      87             19   \n",
       "\n",
       "       Total Salary    Signing Bonus   Years Pro  Height  Weight   Birthdate  \\\n",
       "1524  $2,737,714.00      $100,000.00           0      69     207   4/13/1999   \n",
       "446   $4,860,000.00    $5,920,000.00           2      71     220    2/2/1996   \n",
       "980   $4,229,084.00      $960,000.00           0      74     304   1/17/1997   \n",
       "2011  $2,380,000.00             $-             5      76     320   7/22/1992   \n",
       "1164    $750,000.00       $50,000.00           2      75     210  12/26/1994   \n",
       "\n",
       "              College        Player  \n",
       "1524      Arizona St.   E. Benjamin  \n",
       "446     San Diego St.      R. Penny  \n",
       "980          Oklahoma  N. Gallimore  \n",
       "2011  Minnesota State       C. Reed  \n",
       "1164           Temple   K. Kirkwood  \n",
       "\n",
       "[5 rows x 26 columns]"
      ]
     },
     "execution_count": 283,
     "metadata": {},
     "output_type": "execute_result"
    }
   ],
   "source": [
    "nfl_stat2.sample(5)"
   ]
  },
  {
   "cell_type": "markdown",
   "id": "803af852",
   "metadata": {},
   "source": [
    "in order to merge both tables we need to tie the name with the nick name so we proceed to impor another table that will help us get the missing piece of the puzzel and complete the tables before me merge them."
   ]
  },
  {
   "cell_type": "code",
   "execution_count": 306,
   "id": "ff8d366f",
   "metadata": {},
   "outputs": [],
   "source": [
    "teamlist = pd.read_csv('.\\\\Input\\\\Teamslist.csv', encoding='latin1')"
   ]
  },
  {
   "cell_type": "code",
   "execution_count": 329,
   "id": "78eab0fd",
   "metadata": {},
   "outputs": [],
   "source": [
    "p = [nfl_stat2, teamlist]\n",
    "\n",
    "final = reduce(lambda left,right: pd.merge(left,\n",
    "right,on=['Team'],how='outer'), p)"
   ]
  },
  {
   "cell_type": "code",
   "execution_count": 330,
   "id": "cb103cdf",
   "metadata": {},
   "outputs": [
    {
     "data": {
      "text/html": [
       "<div>\n",
       "<style scoped>\n",
       "    .dataframe tbody tr th:only-of-type {\n",
       "        vertical-align: middle;\n",
       "    }\n",
       "\n",
       "    .dataframe tbody tr th {\n",
       "        vertical-align: top;\n",
       "    }\n",
       "\n",
       "    .dataframe thead th {\n",
       "        text-align: right;\n",
       "    }\n",
       "</style>\n",
       "<table border=\"1\" class=\"dataframe\">\n",
       "  <thead>\n",
       "    <tr style=\"text-align: right;\">\n",
       "      <th></th>\n",
       "      <th>Team</th>\n",
       "      <th>Full Name</th>\n",
       "      <th>Overall Rating</th>\n",
       "      <th>Position</th>\n",
       "      <th>Age</th>\n",
       "      <th>Speed</th>\n",
       "      <th>Acceleration</th>\n",
       "      <th>Awareness</th>\n",
       "      <th>Agility</th>\n",
       "      <th>Strength</th>\n",
       "      <th>...</th>\n",
       "      <th>Jersey Number</th>\n",
       "      <th>Total Salary</th>\n",
       "      <th>Signing Bonus</th>\n",
       "      <th>Years Pro</th>\n",
       "      <th>Height</th>\n",
       "      <th>Weight</th>\n",
       "      <th>Birthdate</th>\n",
       "      <th>College</th>\n",
       "      <th>Player</th>\n",
       "      <th>ï»¿city</th>\n",
       "    </tr>\n",
       "  </thead>\n",
       "  <tbody>\n",
       "    <tr>\n",
       "      <th>0</th>\n",
       "      <td>Rams</td>\n",
       "      <td>Aaron Donald</td>\n",
       "      <td>99</td>\n",
       "      <td>RE</td>\n",
       "      <td>29</td>\n",
       "      <td>82</td>\n",
       "      <td>90</td>\n",
       "      <td>99</td>\n",
       "      <td>86</td>\n",
       "      <td>99</td>\n",
       "      <td>...</td>\n",
       "      <td>99</td>\n",
       "      <td>$101,892,000.00</td>\n",
       "      <td>$40,000,000.00</td>\n",
       "      <td>6</td>\n",
       "      <td>73</td>\n",
       "      <td>280</td>\n",
       "      <td>5/23/1991</td>\n",
       "      <td>Pittsburgh</td>\n",
       "      <td>A. Donald</td>\n",
       "      <td>LAR</td>\n",
       "    </tr>\n",
       "    <tr>\n",
       "      <th>1</th>\n",
       "      <td>Rams</td>\n",
       "      <td>Jalen Ramsey</td>\n",
       "      <td>94</td>\n",
       "      <td>CB</td>\n",
       "      <td>25</td>\n",
       "      <td>91</td>\n",
       "      <td>93</td>\n",
       "      <td>94</td>\n",
       "      <td>90</td>\n",
       "      <td>69</td>\n",
       "      <td>...</td>\n",
       "      <td>20</td>\n",
       "      <td>$18,730,000.00</td>\n",
       "      <td>$13,250,000.00</td>\n",
       "      <td>4</td>\n",
       "      <td>73</td>\n",
       "      <td>208</td>\n",
       "      <td>10/24/1994</td>\n",
       "      <td>Florida State</td>\n",
       "      <td>J. Ramsey</td>\n",
       "      <td>LAR</td>\n",
       "    </tr>\n",
       "  </tbody>\n",
       "</table>\n",
       "<p>2 rows × 27 columns</p>\n",
       "</div>"
      ],
      "text/plain": [
       "   Team     Full Name  Overall Rating Position  Age  Speed  Acceleration  \\\n",
       "0  Rams  Aaron Donald              99       RE   29     82            90   \n",
       "1  Rams  Jalen Ramsey              94       CB   25     91            93   \n",
       "\n",
       "   Awareness  Agility  Strength  ...  Jersey Number     Total Salary   \\\n",
       "0         99       86        99  ...             99  $101,892,000.00    \n",
       "1         94       90        69  ...             20   $18,730,000.00    \n",
       "\n",
       "    Signing Bonus   Years Pro  Height  Weight   Birthdate        College  \\\n",
       "0  $40,000,000.00           6      73     280   5/23/1991     Pittsburgh   \n",
       "1  $13,250,000.00           4      73     208  10/24/1994  Florida State   \n",
       "\n",
       "      Player ï»¿city  \n",
       "0  A. Donald     LAR  \n",
       "1  J. Ramsey     LAR  \n",
       "\n",
       "[2 rows x 27 columns]"
      ]
     },
     "execution_count": 330,
     "metadata": {},
     "output_type": "execute_result"
    }
   ],
   "source": [
    "final.head(2)"
   ]
  },
  {
   "cell_type": "markdown",
   "id": "37e623ac",
   "metadata": {},
   "source": [
    "Now that we have the table renamed we can proceed to change some colum names so they match when mergin."
   ]
  },
  {
   "cell_type": "code",
   "execution_count": 331,
   "id": "6f571bcd",
   "metadata": {},
   "outputs": [],
   "source": [
    "final = final.rename(columns={\"Team\": \"Nickname\"})"
   ]
  },
  {
   "cell_type": "code",
   "execution_count": 332,
   "id": "076934b5",
   "metadata": {},
   "outputs": [],
   "source": [
    "final = final.rename(columns={\"ï»¿city\": \"Team\"})"
   ]
  },
  {
   "cell_type": "code",
   "execution_count": 333,
   "id": "3886425f",
   "metadata": {},
   "outputs": [
    {
     "data": {
      "text/html": [
       "<div>\n",
       "<style scoped>\n",
       "    .dataframe tbody tr th:only-of-type {\n",
       "        vertical-align: middle;\n",
       "    }\n",
       "\n",
       "    .dataframe tbody tr th {\n",
       "        vertical-align: top;\n",
       "    }\n",
       "\n",
       "    .dataframe thead th {\n",
       "        text-align: right;\n",
       "    }\n",
       "</style>\n",
       "<table border=\"1\" class=\"dataframe\">\n",
       "  <thead>\n",
       "    <tr style=\"text-align: right;\">\n",
       "      <th></th>\n",
       "      <th>Nickname</th>\n",
       "      <th>Full Name</th>\n",
       "      <th>Overall Rating</th>\n",
       "      <th>Position</th>\n",
       "      <th>Age</th>\n",
       "      <th>Speed</th>\n",
       "      <th>Acceleration</th>\n",
       "      <th>Awareness</th>\n",
       "      <th>Agility</th>\n",
       "      <th>Strength</th>\n",
       "      <th>...</th>\n",
       "      <th>Jersey Number</th>\n",
       "      <th>Total Salary</th>\n",
       "      <th>Signing Bonus</th>\n",
       "      <th>Years Pro</th>\n",
       "      <th>Height</th>\n",
       "      <th>Weight</th>\n",
       "      <th>Birthdate</th>\n",
       "      <th>College</th>\n",
       "      <th>Player</th>\n",
       "      <th>Team</th>\n",
       "    </tr>\n",
       "  </thead>\n",
       "  <tbody>\n",
       "    <tr>\n",
       "      <th>0</th>\n",
       "      <td>Rams</td>\n",
       "      <td>Aaron Donald</td>\n",
       "      <td>99</td>\n",
       "      <td>RE</td>\n",
       "      <td>29</td>\n",
       "      <td>82</td>\n",
       "      <td>90</td>\n",
       "      <td>99</td>\n",
       "      <td>86</td>\n",
       "      <td>99</td>\n",
       "      <td>...</td>\n",
       "      <td>99</td>\n",
       "      <td>$101,892,000.00</td>\n",
       "      <td>$40,000,000.00</td>\n",
       "      <td>6</td>\n",
       "      <td>73</td>\n",
       "      <td>280</td>\n",
       "      <td>5/23/1991</td>\n",
       "      <td>Pittsburgh</td>\n",
       "      <td>A. Donald</td>\n",
       "      <td>LAR</td>\n",
       "    </tr>\n",
       "    <tr>\n",
       "      <th>1</th>\n",
       "      <td>Rams</td>\n",
       "      <td>Jalen Ramsey</td>\n",
       "      <td>94</td>\n",
       "      <td>CB</td>\n",
       "      <td>25</td>\n",
       "      <td>91</td>\n",
       "      <td>93</td>\n",
       "      <td>94</td>\n",
       "      <td>90</td>\n",
       "      <td>69</td>\n",
       "      <td>...</td>\n",
       "      <td>20</td>\n",
       "      <td>$18,730,000.00</td>\n",
       "      <td>$13,250,000.00</td>\n",
       "      <td>4</td>\n",
       "      <td>73</td>\n",
       "      <td>208</td>\n",
       "      <td>10/24/1994</td>\n",
       "      <td>Florida State</td>\n",
       "      <td>J. Ramsey</td>\n",
       "      <td>LAR</td>\n",
       "    </tr>\n",
       "    <tr>\n",
       "      <th>2</th>\n",
       "      <td>Rams</td>\n",
       "      <td>Cooper Kupp</td>\n",
       "      <td>89</td>\n",
       "      <td>WR</td>\n",
       "      <td>27</td>\n",
       "      <td>88</td>\n",
       "      <td>91</td>\n",
       "      <td>93</td>\n",
       "      <td>95</td>\n",
       "      <td>65</td>\n",
       "      <td>...</td>\n",
       "      <td>10</td>\n",
       "      <td>$4,070,000.00</td>\n",
       "      <td>$950,000.00</td>\n",
       "      <td>3</td>\n",
       "      <td>74</td>\n",
       "      <td>208</td>\n",
       "      <td>6/15/1993</td>\n",
       "      <td>Eastern Wash.</td>\n",
       "      <td>C. Kupp</td>\n",
       "      <td>LAR</td>\n",
       "    </tr>\n",
       "    <tr>\n",
       "      <th>3</th>\n",
       "      <td>Rams</td>\n",
       "      <td>Robert Woods</td>\n",
       "      <td>86</td>\n",
       "      <td>WR</td>\n",
       "      <td>28</td>\n",
       "      <td>90</td>\n",
       "      <td>88</td>\n",
       "      <td>90</td>\n",
       "      <td>87</td>\n",
       "      <td>63</td>\n",
       "      <td>...</td>\n",
       "      <td>17</td>\n",
       "      <td>$31,000,000.00</td>\n",
       "      <td>$8,020,000.00</td>\n",
       "      <td>7</td>\n",
       "      <td>72</td>\n",
       "      <td>193</td>\n",
       "      <td>4/10/1992</td>\n",
       "      <td>USC</td>\n",
       "      <td>R. Woods</td>\n",
       "      <td>LAR</td>\n",
       "    </tr>\n",
       "    <tr>\n",
       "      <th>4</th>\n",
       "      <td>Rams</td>\n",
       "      <td>Johnny Hekker</td>\n",
       "      <td>86</td>\n",
       "      <td>P</td>\n",
       "      <td>30</td>\n",
       "      <td>69</td>\n",
       "      <td>79</td>\n",
       "      <td>72</td>\n",
       "      <td>64</td>\n",
       "      <td>56</td>\n",
       "      <td>...</td>\n",
       "      <td>6</td>\n",
       "      <td>$16,560,000.00</td>\n",
       "      <td>$4,710,000.00</td>\n",
       "      <td>8</td>\n",
       "      <td>77</td>\n",
       "      <td>241</td>\n",
       "      <td>2/8/1990</td>\n",
       "      <td>Oregon State</td>\n",
       "      <td>J. Hekker</td>\n",
       "      <td>LAR</td>\n",
       "    </tr>\n",
       "    <tr>\n",
       "      <th>...</th>\n",
       "      <td>...</td>\n",
       "      <td>...</td>\n",
       "      <td>...</td>\n",
       "      <td>...</td>\n",
       "      <td>...</td>\n",
       "      <td>...</td>\n",
       "      <td>...</td>\n",
       "      <td>...</td>\n",
       "      <td>...</td>\n",
       "      <td>...</td>\n",
       "      <td>...</td>\n",
       "      <td>...</td>\n",
       "      <td>...</td>\n",
       "      <td>...</td>\n",
       "      <td>...</td>\n",
       "      <td>...</td>\n",
       "      <td>...</td>\n",
       "      <td>...</td>\n",
       "      <td>...</td>\n",
       "      <td>...</td>\n",
       "      <td>...</td>\n",
       "    </tr>\n",
       "    <tr>\n",
       "      <th>2288</th>\n",
       "      <td>Lions</td>\n",
       "      <td>Beau Benzschawel</td>\n",
       "      <td>58</td>\n",
       "      <td>C</td>\n",
       "      <td>24</td>\n",
       "      <td>64</td>\n",
       "      <td>77</td>\n",
       "      <td>69</td>\n",
       "      <td>68</td>\n",
       "      <td>82</td>\n",
       "      <td>...</td>\n",
       "      <td>63</td>\n",
       "      <td>$1,760,000.00</td>\n",
       "      <td>$-</td>\n",
       "      <td>1</td>\n",
       "      <td>78</td>\n",
       "      <td>300</td>\n",
       "      <td>9/10/1995</td>\n",
       "      <td>Wisconsin</td>\n",
       "      <td>B. Benzschawel</td>\n",
       "      <td>DET</td>\n",
       "    </tr>\n",
       "    <tr>\n",
       "      <th>2289</th>\n",
       "      <td>Lions</td>\n",
       "      <td>John Atkins</td>\n",
       "      <td>58</td>\n",
       "      <td>DT</td>\n",
       "      <td>27</td>\n",
       "      <td>60</td>\n",
       "      <td>73</td>\n",
       "      <td>55</td>\n",
       "      <td>54</td>\n",
       "      <td>81</td>\n",
       "      <td>...</td>\n",
       "      <td>99</td>\n",
       "      <td>$590,000.00</td>\n",
       "      <td>$-</td>\n",
       "      <td>2</td>\n",
       "      <td>75</td>\n",
       "      <td>320</td>\n",
       "      <td>12/21/1992</td>\n",
       "      <td>Georgia</td>\n",
       "      <td>J. Atkins</td>\n",
       "      <td>DET</td>\n",
       "    </tr>\n",
       "    <tr>\n",
       "      <th>2290</th>\n",
       "      <td>Lions</td>\n",
       "      <td>David Blough</td>\n",
       "      <td>56</td>\n",
       "      <td>QB</td>\n",
       "      <td>25</td>\n",
       "      <td>75</td>\n",
       "      <td>86</td>\n",
       "      <td>64</td>\n",
       "      <td>76</td>\n",
       "      <td>58</td>\n",
       "      <td>...</td>\n",
       "      <td>10</td>\n",
       "      <td>$1,760,000.00</td>\n",
       "      <td>$-</td>\n",
       "      <td>1</td>\n",
       "      <td>72</td>\n",
       "      <td>200</td>\n",
       "      <td>7/31/1995</td>\n",
       "      <td>Purdue</td>\n",
       "      <td>D. Blough</td>\n",
       "      <td>DET</td>\n",
       "    </tr>\n",
       "    <tr>\n",
       "      <th>2291</th>\n",
       "      <td>Lions</td>\n",
       "      <td>Dan Skipper</td>\n",
       "      <td>54</td>\n",
       "      <td>RT</td>\n",
       "      <td>25</td>\n",
       "      <td>58</td>\n",
       "      <td>75</td>\n",
       "      <td>54</td>\n",
       "      <td>64</td>\n",
       "      <td>81</td>\n",
       "      <td>...</td>\n",
       "      <td>70</td>\n",
       "      <td>$670,000.00</td>\n",
       "      <td>$-</td>\n",
       "      <td>3</td>\n",
       "      <td>81</td>\n",
       "      <td>325</td>\n",
       "      <td>9/20/1994</td>\n",
       "      <td>Arkansas</td>\n",
       "      <td>D. Skipper</td>\n",
       "      <td>DET</td>\n",
       "    </tr>\n",
       "    <tr>\n",
       "      <th>2292</th>\n",
       "      <td>Lions</td>\n",
       "      <td>Don Muhlbach</td>\n",
       "      <td>47</td>\n",
       "      <td>TE</td>\n",
       "      <td>39</td>\n",
       "      <td>65</td>\n",
       "      <td>67</td>\n",
       "      <td>78</td>\n",
       "      <td>61</td>\n",
       "      <td>77</td>\n",
       "      <td>...</td>\n",
       "      <td>48</td>\n",
       "      <td>$750,000.00</td>\n",
       "      <td>$90,000.00</td>\n",
       "      <td>17</td>\n",
       "      <td>76</td>\n",
       "      <td>258</td>\n",
       "      <td>8/17/1981</td>\n",
       "      <td>Texas AM</td>\n",
       "      <td>D. Muhlbach</td>\n",
       "      <td>DET</td>\n",
       "    </tr>\n",
       "  </tbody>\n",
       "</table>\n",
       "<p>2293 rows × 27 columns</p>\n",
       "</div>"
      ],
      "text/plain": [
       "     Nickname         Full Name  Overall Rating Position  Age  Speed  \\\n",
       "0        Rams      Aaron Donald              99       RE   29     82   \n",
       "1        Rams      Jalen Ramsey              94       CB   25     91   \n",
       "2        Rams       Cooper Kupp              89       WR   27     88   \n",
       "3        Rams      Robert Woods              86       WR   28     90   \n",
       "4        Rams     Johnny Hekker              86        P   30     69   \n",
       "...       ...               ...             ...      ...  ...    ...   \n",
       "2288    Lions  Beau Benzschawel              58        C   24     64   \n",
       "2289    Lions       John Atkins              58       DT   27     60   \n",
       "2290    Lions      David Blough              56       QB   25     75   \n",
       "2291    Lions       Dan Skipper              54       RT   25     58   \n",
       "2292    Lions      Don Muhlbach              47       TE   39     65   \n",
       "\n",
       "      Acceleration  Awareness  Agility  Strength  ...  Jersey Number  \\\n",
       "0               90         99       86        99  ...             99   \n",
       "1               93         94       90        69  ...             20   \n",
       "2               91         93       95        65  ...             10   \n",
       "3               88         90       87        63  ...             17   \n",
       "4               79         72       64        56  ...              6   \n",
       "...            ...        ...      ...       ...  ...            ...   \n",
       "2288            77         69       68        82  ...             63   \n",
       "2289            73         55       54        81  ...             99   \n",
       "2290            86         64       76        58  ...             10   \n",
       "2291            75         54       64        81  ...             70   \n",
       "2292            67         78       61        77  ...             48   \n",
       "\n",
       "         Total Salary    Signing Bonus   Years Pro  Height  Weight  \\\n",
       "0     $101,892,000.00   $40,000,000.00           6      73     280   \n",
       "1      $18,730,000.00   $13,250,000.00           4      73     208   \n",
       "2       $4,070,000.00      $950,000.00           3      74     208   \n",
       "3      $31,000,000.00    $8,020,000.00           7      72     193   \n",
       "4      $16,560,000.00    $4,710,000.00           8      77     241   \n",
       "...                ...              ...        ...     ...     ...   \n",
       "2288    $1,760,000.00             $-             1      78     300   \n",
       "2289      $590,000.00             $-             2      75     320   \n",
       "2290    $1,760,000.00             $-             1      72     200   \n",
       "2291      $670,000.00             $-             3      81     325   \n",
       "2292      $750,000.00       $90,000.00          17      76     258   \n",
       "\n",
       "       Birthdate        College          Player Team  \n",
       "0      5/23/1991     Pittsburgh       A. Donald  LAR  \n",
       "1     10/24/1994  Florida State       J. Ramsey  LAR  \n",
       "2      6/15/1993  Eastern Wash.         C. Kupp  LAR  \n",
       "3      4/10/1992            USC        R. Woods  LAR  \n",
       "4       2/8/1990   Oregon State       J. Hekker  LAR  \n",
       "...          ...            ...             ...  ...  \n",
       "2288   9/10/1995      Wisconsin  B. Benzschawel  DET  \n",
       "2289  12/21/1992        Georgia       J. Atkins  DET  \n",
       "2290   7/31/1995         Purdue       D. Blough  DET  \n",
       "2291   9/20/1994       Arkansas      D. Skipper  DET  \n",
       "2292   8/17/1981       Texas AM     D. Muhlbach  DET  \n",
       "\n",
       "[2293 rows x 27 columns]"
      ]
     },
     "execution_count": 333,
     "metadata": {},
     "output_type": "execute_result"
    }
   ],
   "source": [
    "final"
   ]
  },
  {
   "cell_type": "code",
   "execution_count": 339,
   "id": "af725c42",
   "metadata": {},
   "outputs": [],
   "source": [
    "query = final [(final[\"Player\"] ==\"C. Kupp\")]"
   ]
  },
  {
   "cell_type": "code",
   "execution_count": 340,
   "id": "5f581165",
   "metadata": {},
   "outputs": [
    {
     "data": {
      "text/html": [
       "<div>\n",
       "<style scoped>\n",
       "    .dataframe tbody tr th:only-of-type {\n",
       "        vertical-align: middle;\n",
       "    }\n",
       "\n",
       "    .dataframe tbody tr th {\n",
       "        vertical-align: top;\n",
       "    }\n",
       "\n",
       "    .dataframe thead th {\n",
       "        text-align: right;\n",
       "    }\n",
       "</style>\n",
       "<table border=\"1\" class=\"dataframe\">\n",
       "  <thead>\n",
       "    <tr style=\"text-align: right;\">\n",
       "      <th></th>\n",
       "      <th>Nickname</th>\n",
       "      <th>Full Name</th>\n",
       "      <th>Overall Rating</th>\n",
       "      <th>Position</th>\n",
       "      <th>Age</th>\n",
       "      <th>Speed</th>\n",
       "      <th>Acceleration</th>\n",
       "      <th>Awareness</th>\n",
       "      <th>Agility</th>\n",
       "      <th>Strength</th>\n",
       "      <th>...</th>\n",
       "      <th>Jersey Number</th>\n",
       "      <th>Total Salary</th>\n",
       "      <th>Signing Bonus</th>\n",
       "      <th>Years Pro</th>\n",
       "      <th>Height</th>\n",
       "      <th>Weight</th>\n",
       "      <th>Birthdate</th>\n",
       "      <th>College</th>\n",
       "      <th>Player</th>\n",
       "      <th>Team</th>\n",
       "    </tr>\n",
       "  </thead>\n",
       "  <tbody>\n",
       "    <tr>\n",
       "      <th>2</th>\n",
       "      <td>Rams</td>\n",
       "      <td>Cooper Kupp</td>\n",
       "      <td>89</td>\n",
       "      <td>WR</td>\n",
       "      <td>27</td>\n",
       "      <td>88</td>\n",
       "      <td>91</td>\n",
       "      <td>93</td>\n",
       "      <td>95</td>\n",
       "      <td>65</td>\n",
       "      <td>...</td>\n",
       "      <td>10</td>\n",
       "      <td>$4,070,000.00</td>\n",
       "      <td>$950,000.00</td>\n",
       "      <td>3</td>\n",
       "      <td>74</td>\n",
       "      <td>208</td>\n",
       "      <td>6/15/1993</td>\n",
       "      <td>Eastern Wash.</td>\n",
       "      <td>C. Kupp</td>\n",
       "      <td>LAR</td>\n",
       "    </tr>\n",
       "  </tbody>\n",
       "</table>\n",
       "<p>1 rows × 27 columns</p>\n",
       "</div>"
      ],
      "text/plain": [
       "  Nickname    Full Name  Overall Rating Position  Age  Speed  Acceleration  \\\n",
       "2     Rams  Cooper Kupp              89       WR   27     88            91   \n",
       "\n",
       "   Awareness  Agility  Strength  ...  Jersey Number   Total Salary   \\\n",
       "2         93       95        65  ...             10  $4,070,000.00    \n",
       "\n",
       "    Signing Bonus   Years Pro  Height  Weight  Birthdate        College  \\\n",
       "2     $950,000.00           3      74     208  6/15/1993  Eastern Wash.   \n",
       "\n",
       "    Player Team  \n",
       "2  C. Kupp  LAR  \n",
       "\n",
       "[1 rows x 27 columns]"
      ]
     },
     "execution_count": 340,
     "metadata": {},
     "output_type": "execute_result"
    }
   ],
   "source": [
    "query"
   ]
  },
  {
   "cell_type": "code",
   "execution_count": null,
   "id": "bef09190",
   "metadata": {},
   "outputs": [],
   "source": []
  },
  {
   "cell_type": "code",
   "execution_count": null,
   "id": "2bfbc4f5",
   "metadata": {},
   "outputs": [],
   "source": []
  },
  {
   "cell_type": "code",
   "execution_count": null,
   "id": "9bf6bc0c",
   "metadata": {},
   "outputs": [],
   "source": []
  },
  {
   "cell_type": "code",
   "execution_count": null,
   "id": "6453a949",
   "metadata": {},
   "outputs": [],
   "source": []
  },
  {
   "cell_type": "code",
   "execution_count": null,
   "id": "2b465c25",
   "metadata": {},
   "outputs": [],
   "source": []
  },
  {
   "cell_type": "code",
   "execution_count": null,
   "id": "ed033c16",
   "metadata": {},
   "outputs": [],
   "source": []
  }
 ],
 "metadata": {
  "kernelspec": {
   "display_name": "Python 3 (ipykernel)",
   "language": "python",
   "name": "python3"
  },
  "language_info": {
   "codemirror_mode": {
    "name": "ipython",
    "version": 3
   },
   "file_extension": ".py",
   "mimetype": "text/x-python",
   "name": "python",
   "nbconvert_exporter": "python",
   "pygments_lexer": "ipython3",
   "version": "3.9.12"
  }
 },
 "nbformat": 4,
 "nbformat_minor": 5
}
